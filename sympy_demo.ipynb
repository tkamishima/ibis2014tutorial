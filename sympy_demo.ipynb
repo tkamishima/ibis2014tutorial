{
 "metadata": {
  "name": "",
  "signature": "sha256:516d1ea0f8e2c38b06379b0a9f9ff292bf69a55e99afe0a7cb0e485a0c50043e"
 },
 "nbformat": 3,
 "nbformat_minor": 0,
 "worksheets": [
  {
   "cells": [
    {
     "cell_type": "markdown",
     "metadata": {},
     "source": [
      "`ipython notebook --profile sympy` \u3067\u8d77\u52d5\u3057\u3066\u5b9f\u884c\u3059\u308b\u3053\u3068"
     ]
    },
    {
     "cell_type": "markdown",
     "metadata": {},
     "source": [
      "\u5fae\u5206"
     ]
    },
    {
     "cell_type": "code",
     "collapsed": false,
     "input": [
      "diff((x ** 2 + log(x)) / x, x)"
     ],
     "language": "python",
     "metadata": {},
     "outputs": [
      {
       "latex": [
        "$$\\frac{1}{x} \\left(2 x + \\frac{1}{x}\\right) - \\frac{1}{x^{2}} \\left(x^{2} + \\log{\\left (x \\right )}\\right)$$"
       ],
       "metadata": {},
       "output_type": "pyout",
       "png": "[encoded data removed]",
       "prompt_number": 1,
       "text": [
        "      1              \n",
        "2\u22c5x + \u2500    2         \n",
        "      x   x  + log(x)\n",
        "\u2500\u2500\u2500\u2500\u2500\u2500\u2500 - \u2500\u2500\u2500\u2500\u2500\u2500\u2500\u2500\u2500\u2500\u2500\n",
        "   x            2    \n",
        "               x     "
       ]
      }
     ],
     "prompt_number": 1
    },
    {
     "cell_type": "markdown",
     "metadata": {},
     "source": [
      "\u7a4d\u5206"
     ]
    },
    {
     "cell_type": "code",
     "collapsed": false,
     "input": [
      "integrate(x ** 3 + sin(x) ** 2, x)"
     ],
     "language": "python",
     "metadata": {},
     "outputs": [
      {
       "latex": [
        "$$\\frac{x^{4}}{4} + \\frac{x}{2} - \\frac{1}{2} \\sin{\\left (x \\right )} \\cos{\\left (x \\right )}$$"
       ],
       "metadata": {},
       "output_type": "pyout",
       "png": "[encoded data removed]",
       "prompt_number": 2,
       "text": [
        " 4                    \n",
        "x    x   sin(x)\u22c5cos(x)\n",
        "\u2500\u2500 + \u2500 - \u2500\u2500\u2500\u2500\u2500\u2500\u2500\u2500\u2500\u2500\u2500\u2500\u2500\n",
        "4    2         2      "
       ]
      }
     ],
     "prompt_number": 2
    },
    {
     "cell_type": "markdown",
     "metadata": {},
     "source": [
      "\u5c55\u958b"
     ]
    },
    {
     "cell_type": "code",
     "collapsed": false,
     "input": [
      "expand((x + 1)**2)"
     ],
     "language": "python",
     "metadata": {},
     "outputs": [
      {
       "latex": [
        "$$x^{2} + 2 x + 1$$"
       ],
       "metadata": {},
       "output_type": "pyout",
       "png": "[encoded data removed]",
       "prompt_number": 3,
       "text": [
        " 2          \n",
        "x  + 2\u22c5x + 1"
       ]
      }
     ],
     "prompt_number": 3
    }
   ],
   "metadata": {}
  }
 ]
}