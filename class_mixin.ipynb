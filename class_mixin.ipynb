{
 "metadata": {
  "name": "",
  "signature": "sha256:91d27bfef7d1c6553bc5071d4b5f74083900e322305eb380e48bcac66bc7851b"
 },
 "nbformat": 3,
 "nbformat_minor": 0,
 "worksheets": [
  {
   "cells": [
    {
     "cell_type": "markdown",
     "metadata": {},
     "source": [
      "\u30d1\u30c3\u30b1\u30fc\u30b8\u306eimport"
     ]
    },
    {
     "cell_type": "code",
     "collapsed": false,
     "input": [
      "import numpy as np\n",
      "from scipy.optimize import curve_fit\n",
      "from sklearn.base import BaseEstimator, RegressorMixin\n",
      "import matplotlib.pyplot as plt\n",
      "%matplotlib inline"
     ],
     "language": "python",
     "metadata": {},
     "outputs": [],
     "prompt_number": 1
    },
    {
     "cell_type": "markdown",
     "metadata": {},
     "source": [
      "\u5bfe\u6570\u95a2\u6570"
     ]
    },
    {
     "cell_type": "code",
     "collapsed": false,
     "input": [
      "class LogFuncMixin(object):\n",
      "    def func(self, x, a, b):\n",
      "        return a * np.log(x) + b"
     ],
     "language": "python",
     "metadata": {},
     "outputs": [],
     "prompt_number": 2
    },
    {
     "cell_type": "markdown",
     "metadata": {},
     "source": [
      "\u7dda\u5f62\u95a2\u6570"
     ]
    },
    {
     "cell_type": "code",
     "collapsed": false,
     "input": [
      "class LinearFuncMixin(object):\n",
      "    def func(self, x, a, b):\n",
      "        return a * x + b"
     ],
     "language": "python",
     "metadata": {},
     "outputs": [],
     "prompt_number": 3
    },
    {
     "cell_type": "markdown",
     "metadata": {},
     "source": [
      "\u95a2\u6570\u306e\u3042\u3066\u306f\u3081\u3068\u4e88\u6e2c"
     ]
    },
    {
     "cell_type": "code",
     "collapsed": false,
     "input": [
      "class FuncFitMixin(object):\n",
      "    def fit(self, x, y):\n",
      "        popt, pcov = curve_fit(self.func, x, y)\n",
      "        self.coef_ = popt\n",
      "    \n",
      "    def predict(self, x):\n",
      "        return self.func(x, *self.coef_)"
     ],
     "language": "python",
     "metadata": {},
     "outputs": [],
     "prompt_number": 4
    },
    {
     "cell_type": "markdown",
     "metadata": {},
     "source": [
      "\u5bfe\u6570\u95a2\u6570\u3078\u306e\u3042\u3066\u306f\u3081"
     ]
    },
    {
     "cell_type": "code",
     "collapsed": false,
     "input": [
      "class LogFit(BaseEstimator, RegressorMixin,\n",
      "             LogFuncMixin, FuncFitMixin):\n",
      "    pass"
     ],
     "language": "python",
     "metadata": {},
     "outputs": [],
     "prompt_number": 5
    },
    {
     "cell_type": "markdown",
     "metadata": {},
     "source": [
      "\u7dda\u5f62\u95a2\u6570\u3078\u306e\u3042\u3066\u306f\u3081"
     ]
    },
    {
     "cell_type": "code",
     "collapsed": false,
     "input": [
      "class LinearFit(BaseEstimator, RegressorMixin,\n",
      "                LinearFuncMixin, FuncFitMixin):\n",
      "    pass"
     ],
     "language": "python",
     "metadata": {},
     "outputs": [],
     "prompt_number": 6
    },
    {
     "cell_type": "markdown",
     "metadata": {},
     "source": [
      "\u30c6\u30b9\u30c8\u30c7\u30fc\u30bf\u306e\u4f5c\u6210"
     ]
    },
    {
     "cell_type": "code",
     "collapsed": false,
     "input": [
      "x = np.linspace(0.1, 2.0, 100)\n",
      "y = 2.0 * np.log(x) + 10 + np.random.normal(0, 0.2, 100)"
     ],
     "language": "python",
     "metadata": {},
     "outputs": [],
     "prompt_number": 7
    },
    {
     "cell_type": "markdown",
     "metadata": {},
     "source": [
      "clf1 \u3067\u306f\u5bfe\u6570\u95a2\u6570\u306b\uff0cclf2 \u3067\u306f\u7dda\u5f62\u95a2\u6570\u306b\u3042\u3066\u306f\u3081"
     ]
    },
    {
     "cell_type": "code",
     "collapsed": false,
     "input": [
      "clf1 = LogFit()\n",
      "clf1.fit(x, y)\n",
      "clf2 = LinearFit()\n",
      "clf2.fit(x,y)"
     ],
     "language": "python",
     "metadata": {},
     "outputs": [],
     "prompt_number": 8
    },
    {
     "cell_type": "markdown",
     "metadata": {},
     "source": [
      "\u8d64\u306f\u5bfe\u6570\u95a2\u6570\u306b\u3088\u308b\u3042\u3066\u306f\u3081\uff0c\u9752\u306f\u7dda\u5f62\u95a2\u6570\u306b\u3088\u308b\u3042\u3066\u306f\u3081"
     ]
    },
    {
     "cell_type": "code",
     "collapsed": false,
     "input": [
      "plt.scatter(x, y, color='gray')\n",
      "plt.plot(x, clf1.predict(x), color='red')\n",
      "plt.plot(x, clf2.predict(x), color='blue')"
     ],
     "language": "python",
     "metadata": {},
     "outputs": [
      {
       "metadata": {},
       "output_type": "pyout",
       "prompt_number": 9,
       "text": [
        "[<matplotlib.lines.Line2D at 0x113c3bbd0>]"
       ]
      },
      {
       "metadata": {},
       "output_type": "display_data",
       "png": "[encoded data removed]",
       "text": [
        "<matplotlib.figure.Figure at 0x113ba91d0>"
       ]
      }
     ],
     "prompt_number": 9
    }
   ],
   "metadata": {}
  }
 ]
}