{
 "metadata": {
  "name": "",
  "signature": "sha256:ac07bd669630bb26c0d916e75c8c3293e0b2268829c2e082ec4552cb3b03ba96"
 },
 "nbformat": 3,
 "nbformat_minor": 0,
 "worksheets": [
  {
   "cells": [
    {
     "cell_type": "markdown",
     "metadata": {},
     "source": [
      "<http://scikit-learn.org/stable/modules/cross_validation.html> \u306e\u4f8b\u984c"
     ]
    },
    {
     "cell_type": "markdown",
     "metadata": {},
     "source": [
      "\u30d1\u30c3\u30b1\u30fc\u30b8\u306e import"
     ]
    },
    {
     "cell_type": "code",
     "collapsed": false,
     "input": [
      "import numpy as np\n",
      "from sklearn import cross_validation\n",
      "from sklearn import datasets\n",
      "from sklearn import svm"
     ],
     "language": "python",
     "metadata": {},
     "outputs": [],
     "prompt_number": 4
    },
    {
     "cell_type": "markdown",
     "metadata": {},
     "source": [
      "IRIS\u30c7\u30fc\u30bf\u306e\u30ed\u30fc\u30c9\u3068 SVM \u5206\u985e\u5668\u306e\u4f5c\u6210"
     ]
    },
    {
     "cell_type": "code",
     "collapsed": false,
     "input": [
      "iris = datasets.load_iris()\n",
      "clf = svm.SVC(kernel='linear', C=1)"
     ],
     "language": "python",
     "metadata": {},
     "outputs": [],
     "prompt_number": 5
    },
    {
     "cell_type": "markdown",
     "metadata": {},
     "source": [
      "\u4ea4\u5dee\u78ba\u8a8d\u306b\u3088\u308b\u6c4e\u5316\u8aa4\u5dee\u306e\u8a55\u4fa1\uff0e`n_jobs=-1` \u3068\u3059\u308b\u3068\u5168CPU\u3092\u4f7f\u3063\u3066\u4e26\u5217\u8a08\u7b97"
     ]
    },
    {
     "cell_type": "code",
     "collapsed": false,
     "input": [
      "scores = cross_validation.cross_val_score(clf, iris.data, iris.target, cv=5, n_jobs=5)\n",
      "np.mean(scores)"
     ],
     "language": "python",
     "metadata": {},
     "outputs": [
      {
       "metadata": {},
       "output_type": "pyout",
       "prompt_number": 9,
       "text": [
        "0.98000000000000009"
       ]
      }
     ],
     "prompt_number": 9
    }
   ],
   "metadata": {}
  }
 ]
}