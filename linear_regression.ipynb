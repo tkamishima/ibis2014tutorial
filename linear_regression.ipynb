{
 "metadata": {
  "name": "",
  "signature": "sha256:a2d54fd90e4657e46133b699ae4f6305efdb4001b85424f67f6169ec85804c38"
 },
 "nbformat": 3,
 "nbformat_minor": 0,
 "worksheets": [
  {
   "cells": [
    {
     "cell_type": "markdown",
     "metadata": {},
     "source": [
      "\u30d1\u30c3\u30b1\u30fc\u30b8\u306e\u8aad\u307f\u8fbc\u307f"
     ]
    },
    {
     "cell_type": "code",
     "collapsed": false,
     "input": [
      "import numpy as np\n",
      "from sklearn import linear_model"
     ],
     "language": "python",
     "metadata": {},
     "outputs": [],
     "prompt_number": 1
    },
    {
     "cell_type": "markdown",
     "metadata": {},
     "source": [
      "\u533a\u9593 [0, 10] \u3068 [0, 5] \u4e0a\u306e\u4e00\u69d8\u5206\u5e03\u306b\u5f93\u3046\uff0c2\u6b21\u5143\u306e\u72ec\u7acb\u5909\u6570\u306e\u30b5\u30f3\u30d7\u30eb\u3092100\u500b\u751f\u6210"
     ]
    },
    {
     "cell_type": "code",
     "collapsed": false,
     "input": [
      "X = np.array([np.random.uniform(0, 10, 100), np.random.uniform(0, 5, 100)]).T"
     ],
     "language": "python",
     "metadata": {},
     "outputs": [],
     "prompt_number": 2
    },
    {
     "cell_type": "markdown",
     "metadata": {},
     "source": [
      "\u56de\u5e30\u5f0f \\\\(y = 1\\,x_1 + 3\\,x_2 + 10\\\\)\u3067\u5f93\u5c5e\u5909\u6570\u3092\u751f\u6210"
     ]
    },
    {
     "cell_type": "code",
     "collapsed": false,
     "input": [
      "y = np.dot(np.array([[1, 3]]), X.T).ravel() + 10.0 + np.random.normal(0, 0.1, 100)"
     ],
     "language": "python",
     "metadata": {},
     "outputs": [],
     "prompt_number": 3
    },
    {
     "cell_type": "markdown",
     "metadata": {},
     "source": [
      "<span style=\"color:#f30\">**\u7dda\u5f62\u56de\u5e30\u7528\u306e\u30af\u30e9\u30b9\u3092\u751f\u6210\u3059\u308b\uff1b\u30c7\u30fc\u30bf\u306b\u4f9d\u5b58\u3057\u306a\u3044\u30d1\u30e9\u30e1\u30fc\u30bf\u3092\u6307\u5b9a**</span>\n",
      "\n",
      "\u3053\u3053\u3067\u306f\u5207\u7247\u9805\u3092\u4f7f\u3046\u6307\u5b9a\u3092\u884c\u3046"
     ]
    },
    {
     "cell_type": "code",
     "collapsed": false,
     "input": [
      "clr = linear_model.LinearRegression(fit_intercept=True)"
     ],
     "language": "python",
     "metadata": {},
     "outputs": [],
     "prompt_number": 4
    },
    {
     "cell_type": "markdown",
     "metadata": {},
     "source": [
      "<span style=\"color:#f30\">**fit\u30e1\u30bd\u30c3\u30c9\u3067\u30c7\u30fc\u30bf\u3092\u3042\u3066\u306f\u3081**</span>"
     ]
    },
    {
     "cell_type": "code",
     "collapsed": false,
     "input": [
      "clr.fit(X, y)"
     ],
     "language": "python",
     "metadata": {},
     "outputs": [
      {
       "metadata": {},
       "output_type": "pyout",
       "prompt_number": 5,
       "text": [
        "LinearRegression(copy_X=True, fit_intercept=True, normalize=False)"
       ]
      }
     ],
     "prompt_number": 5
    },
    {
     "cell_type": "markdown",
     "metadata": {},
     "source": [
      "\u5f93\u5c5e\u5909\u6570\u306e\u4fc2\u6570\u3092\u8abf\u3079\u308b\u3068\uff0c\u307b\u307c\u5143\u306e\u56de\u5e30\u5f0f\u306e \\\\(1\\\\) \u3068 \\\\(3\\\\) \u306b\u306a\u3063\u3066\u3044\u308b"
     ]
    },
    {
     "cell_type": "code",
     "collapsed": false,
     "input": [
      "clr.coef_"
     ],
     "language": "python",
     "metadata": {},
     "outputs": [
      {
       "metadata": {},
       "output_type": "pyout",
       "prompt_number": 6,
       "text": [
        "array([ 0.99926392,  3.00026426])"
       ]
      }
     ],
     "prompt_number": 6
    },
    {
     "cell_type": "markdown",
     "metadata": {},
     "source": [
      "<span style=\"color:#F30\">**predict\u30e1\u30bd\u30c3\u30c9\u3067\u63a8\u5b9a\u3057\u305f\u30e2\u30c7\u30eb\u306b\u57fa\u3065\u304f\u4e88\u6e2c**</span>\n",
      "\n",
      "\u5165\u529b \\\\(\\mathbf{x}=(1,2)\\\\) \u306b\u5bfe\u3059\u308b\u4e88\u6e2c\u5024\u306f\uff0c\u307b\u307c\u5143\u306e\u56de\u5e30\u5f0f\u304b\u3089\u5f97\u3089\u308c\u308b\u5024 \\\\(17\\\\) \u306b\u306a\u3063\u3066\u3044\u308b"
     ]
    },
    {
     "cell_type": "code",
     "collapsed": false,
     "input": [
      "clr.predict([1, 2])"
     ],
     "language": "python",
     "metadata": {},
     "outputs": [
      {
       "metadata": {},
       "output_type": "pyout",
       "prompt_number": 7,
       "text": [
        "17.00185966342633"
       ]
      }
     ],
     "prompt_number": 7
    }
   ],
   "metadata": {}
  }
 ]
}