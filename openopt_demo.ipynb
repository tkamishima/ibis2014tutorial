{
 "metadata": {
  "name": "",
  "signature": "sha256:2eebdd0437fd810ee1ed1d7b7ca0430a889534a2d4759dc9829773cf4faed145"
 },
 "nbformat": 3,
 "nbformat_minor": 0,
 "worksheets": [
  {
   "cells": [
    {
     "cell_type": "markdown",
     "metadata": {},
     "source": [
      "`OpenOpt` \u306b\u9644\u5c5e\u306e `FuncDesigner` \u30d1\u30c3\u30b1\u30fc\u30b8\u306e\u8aad\u307f\u8fbc\u307f"
     ]
    },
    {
     "cell_type": "code",
     "collapsed": false,
     "input": [
      "import FuncDesigner as fd"
     ],
     "language": "python",
     "metadata": {},
     "outputs": [],
     "prompt_number": 2
    },
    {
     "cell_type": "markdown",
     "metadata": {},
     "source": [
      "`x` \u3092\u30b7\u30f3\u30dc\u30eb\u3068\u3057\u3066\u8a8d\u8b58\u3055\u305b\u308b"
     ]
    },
    {
     "cell_type": "code",
     "collapsed": false,
     "input": [
      "x = fd.oovar()"
     ],
     "language": "python",
     "metadata": {},
     "outputs": [],
     "prompt_number": 3
    },
    {
     "cell_type": "markdown",
     "metadata": {},
     "source": [
      "\u95a2\u6570 \\\\(f(x) = \\\\sin(x)\\\\) \u3092\u5b9a\u7fa9"
     ]
    },
    {
     "cell_type": "code",
     "collapsed": false,
     "input": [
      "f = fd.sin(x)"
     ],
     "language": "python",
     "metadata": {},
     "outputs": [],
     "prompt_number": 4
    },
    {
     "cell_type": "markdown",
     "metadata": {},
     "source": [
      "\u5909\u6570 \\\\(x\\\\) \u306b\uff0c\u5024 \\\\(\\\\pi\\\\) \u3092\u4ee3\u5165\u3057\u3066\u95a2\u6570 \\\\(f(x)\\\\) \u8a55\u4fa1\u3059\u308b\uff1a\\\\(\\\\sin(\\\\pi)=0\\\\)"
     ]
    },
    {
     "cell_type": "code",
     "collapsed": false,
     "input": [
      "f({x:np.pi})"
     ],
     "language": "python",
     "metadata": {},
     "outputs": [
      {
       "metadata": {},
       "output_type": "pyout",
       "prompt_number": 5,
       "text": [
        "array([  1.22464680e-16])"
       ]
      }
     ],
     "prompt_number": 5
    },
    {
     "cell_type": "markdown",
     "metadata": {},
     "source": [
      "\u95a2\u6570 \\\\(f(x)\\\\) \u3092\u5fae\u5206\u3057\u3066\uff0c\u5024 \\\\(\\\\pi\\\\) \u3067\u8a55\u4fa1\u3059\u308b\uff1a\\\\(\\\\sin'(\\\\pi)=\\\\cos(\\\\pi)=-1.0\\\\)"
     ]
    },
    {
     "cell_type": "code",
     "collapsed": false,
     "input": [
      "f.D({x:np.pi})"
     ],
     "language": "python",
     "metadata": {},
     "outputs": [
      {
       "metadata": {},
       "output_type": "pyout",
       "prompt_number": 6,
       "text": [
        "{unnamed_oofun_1: -1.0}"
       ]
      }
     ],
     "prompt_number": 6
    }
   ],
   "metadata": {}
  }
 ]
}